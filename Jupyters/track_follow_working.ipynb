{
 "cells": [
  {
   "cell_type": "markdown",
   "metadata": {},
   "source": [
    "# Main Jupyter notebook for Urdf2Moon"
   ]
  },
  {
   "cell_type": "markdown",
   "metadata": {},
   "source": [
    "Jupyter to add the gravity term to the optimal torque solution"
   ]
  },
  {
   "cell_type": "code",
   "execution_count": 1,
   "metadata": {},
   "outputs": [],
   "source": [
    "import casadi as cs\n",
    "from urdf2casadi import urdfparser as u2c\n",
    "import numpy as np\n",
    "import matplotlib.pyplot as plt"
   ]
  },
  {
   "cell_type": "code",
   "execution_count": 2,
   "metadata": {},
   "outputs": [],
   "source": [
    "class Urdf2Moon:\n",
    "    def __init__(self, urdf_path, root, tip):\n",
    "        self.robot_parser = self.load_urdf(urdf_path)\n",
    "\n",
    "        # Store inputs\n",
    "        self.root = root\n",
    "        self.tip = tip\n",
    "        \n",
    "        # Get basic info\n",
    "        self.num_joints = self.get_joints_n(self.root, self.tip)\n",
    "        self.q, self.q_dot, self.u_hat = self.define_symbolic_vars(self.num_joints)\n",
    "        self.M, self.Cq, self.G = self.get_motion_equation_matrix(self.root, self.tip, self.q, self.q_dot)\n",
    "        self.upper_x, self.lower_x = self.get_limits(self.root, self.tip)\n",
    "        self.fk_dict = self.robot_parser.get_forward_kinematics(self.root, self.tip)\n",
    "\n",
    "    def define_symbolic_vars(self, num_joints):\n",
    "        q = cs.SX.sym(\"q\", num_joints)\n",
    "        q_dot = cs.SX.sym(\"q_dot\", num_joints)\n",
    "        return q, q_dot, u_hat\n",
    "    def load_urdf(self, urdf_path):\n",
    "        robot_parser = u2c.URDFparser()\n",
    "        robot_parser.from_file(urdf_path)\n",
    "        return robot_parser\n",
    "    def get_joints_n(self, root, tip):\n",
    "        return self.robot_parser.get_n_joints(root, tip) #return the number of actuated joints\n",
    "    def get_limits(self, root, tip):\n",
    "        _, _, upper, lower = self.robot_parser.get_joint_info(root, tip)\n",
    "        return upper, lower\n",
    "    def get_motion_equation_matrix(self, root, tip, q, q_dot):\n",
    "        # load inertia terms (function)\n",
    "        M_sym = self.robot_parser.get_inertia_matrix_crba(root, tip)\n",
    "        # load gravity terms (function)\n",
    "        gravity_u2c = [0, 0, -9.81]\n",
    "        G_sym = self.robot_parser.get_gravity_rnea(root, tip, gravity_u2c)\n",
    "        # load Coriolis terms (function)\n",
    "        C_sym = self.robot_parser.get_coriolis_rnea(root, tip)\n",
    "        return M_sym, C_sym, G_sym"
   ]
  },
  {
   "cell_type": "code",
   "execution_count": 3,
   "metadata": {
    "scrolled": false
   },
   "outputs": [],
   "source": [
    "if __name__ == '__main__':\n",
    "    urdf_path = \"../urdf/rrbot.urdf\"\n",
    "    root = \"link1\" \n",
    "    end = \"link4\"\n",
    "\n",
    "    model = Urdf2Moon(urdf_path, root, end)"
   ]
  },
  {
   "cell_type": "code",
   "execution_count": 4,
   "metadata": {},
   "outputs": [],
   "source": [
    "# Load forward kinematics (4x4 matrix)\n",
    "T_fk = model.fk_dict[\"T_fk\"]"
   ]
  },
  {
   "cell_type": "code",
   "execution_count": 5,
   "metadata": {},
   "outputs": [],
   "source": [
    "dim = model.num_joints\n",
    "epsilon = cs.SX.sym(\"epsilon\", dim) # create symbolic variables to perform derivatives in epsilon\n",
    "epsilon_q = T_fk(model.q)[0:3:2,3]  # the same variable but q_dipendent\n",
    "\n",
    "x = epsilon[0]\n",
    "y = epsilon[1]\n",
    "\n",
    "x0 = 0.2\n",
    "y0 = 0.2\n",
    "R = 0.1"
   ]
  },
  {
   "cell_type": "code",
   "execution_count": 6,
   "metadata": {},
   "outputs": [],
   "source": [
    "C = (x - x0)**2 + (y - y0)**2 - R**2           # define C(epsilon)\n",
    "C_func = cs.Function('C_func', [epsilon], [C], # create a funcion, useful to express C as function of q\n",
    "                     [\"epsilon\"], [\"C\"])\n",
    "C_q = C_func(epsilon_q)                        # C(q)"
   ]
  },
  {
   "cell_type": "code",
   "execution_count": 7,
   "metadata": {},
   "outputs": [],
   "source": [
    "C_epsilon = cs.jacobian(C, epsilon)            # define dC/depsilon\n",
    "C_epsilon_func = cs.Function('C_epsilon_func', [epsilon], [C_epsilon], # create the function\n",
    "                             [\"epsilon\"], [\"C_epsilon\"])\n",
    "C_epsilon_q = C_epsilon_func(epsilon_q)        # C_epsilon(q)"
   ]
  },
  {
   "cell_type": "code",
   "execution_count": 8,
   "metadata": {},
   "outputs": [
    {
     "name": "stdout",
     "output_type": "stream",
     "text": [
      "check if 0 = 0\n"
     ]
    }
   ],
   "source": [
    "S = cs.SX.sym(\"S\", dim)\n",
    "S[0] = -C_epsilon[1]    # S is defined to have C.T*S=0\n",
    "S[1] =  C_epsilon[0]\n",
    "S_func = cs.Function('S_func', [epsilon], [S], # create the function\n",
    "                     [\"epsilon\"], [\"S\"])\n",
    "S_q = S_func(epsilon_q) # S(q)\n",
    "print(\"check if 0 =\", C_epsilon@S)"
   ]
  },
  {
   "cell_type": "code",
   "execution_count": 9,
   "metadata": {},
   "outputs": [],
   "source": [
    "J = cs.jacobian(T_fk(model.q)[0:3:2,3], model.q) # Jacobian, just select the position one (last column of matrix)"
   ]
  },
  {
   "cell_type": "code",
   "execution_count": 10,
   "metadata": {},
   "outputs": [],
   "source": [
    "# parameters\n",
    "ni = 0.5\n",
    "alpha = 0.1\n",
    "Kb = 1.0"
   ]
  },
  {
   "cell_type": "code",
   "execution_count": 11,
   "metadata": {},
   "outputs": [],
   "source": [
    "gamma = -cs.pinv(J)@((C_epsilon_q@C_q.T*ni).T + S_q*alpha)\n",
    "gamma_epsilon = cs.jacobian(gamma, model.q) # dgamma/dq\n",
    "gamma_dot = gamma_epsilon@model.q_dot       # dgamma/dt = dgamma/dq * dq/dt"
   ]
  },
  {
   "cell_type": "code",
   "execution_count": 12,
   "metadata": {},
   "outputs": [],
   "source": [
    "def evaluate_tau (model, C, C_epsilon, gamma, gamma_dot, J, ni, Kb):\n",
    "    a = model.Cq(model.q, model.q_dot) + model.G(model.q)  \n",
    "    p = (cs.pinv(model.q_dot-gamma)@(C.T*C_epsilon@(J@model.q_dot+C_epsilon.T*C*ni))).T\n",
    "    b = gamma_dot - p - Kb*(model.q_dot-gamma)\n",
    "    tau = a + model.M(model.q)@b\n",
    "    return tau"
   ]
  },
  {
   "cell_type": "code",
   "execution_count": 13,
   "metadata": {},
   "outputs": [],
   "source": [
    "tau = evaluate_tau (model, C_q, C_epsilon_q, gamma, gamma_dot, J, ni, Kb)\n",
    "tau_func = cs.Function(\"tau_func\", [model.q, model.q_dot], [tau], \n",
    "                       [\"q\", \"q_dot\"], [\"tau\"])"
   ]
  },
  {
   "cell_type": "code",
   "execution_count": 14,
   "metadata": {},
   "outputs": [],
   "source": [
    "q = [0.5, 0.5]\n",
    "q_dot = [1.0, 1.0]"
   ]
  },
  {
   "cell_type": "code",
   "execution_count": 15,
   "metadata": {},
   "outputs": [],
   "source": [
    "tau_val = tau_func(q, q_dot)"
   ]
  },
  {
   "cell_type": "code",
   "execution_count": 16,
   "metadata": {},
   "outputs": [
    {
     "data": {
      "text/plain": [
       "DM([133.918, 12.1951])"
      ]
     },
     "execution_count": 16,
     "metadata": {},
     "output_type": "execute_result"
    }
   ],
   "source": [
    "tau_val"
   ]
  }
 ],
 "metadata": {
  "kernelspec": {
   "display_name": "Python 3",
   "language": "python",
   "name": "python3"
  },
  "language_info": {
   "codemirror_mode": {
    "name": "ipython",
    "version": 3
   },
   "file_extension": ".py",
   "mimetype": "text/x-python",
   "name": "python",
   "nbconvert_exporter": "python",
   "pygments_lexer": "ipython3",
   "version": "3.8.5"
  }
 },
 "nbformat": 4,
 "nbformat_minor": 4
}
