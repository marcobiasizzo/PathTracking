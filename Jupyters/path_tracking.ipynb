{
 "cells": [
  {
   "cell_type": "markdown",
   "metadata": {},
   "source": [
    "# Main Jupyter notebook for Urdf2Moon"
   ]
  },
  {
   "cell_type": "markdown",
   "metadata": {},
   "source": [
    "Jupyter to add the gravity term to the optimal torque solution"
   ]
  },
  {
   "cell_type": "code",
   "execution_count": 1,
   "metadata": {},
   "outputs": [],
   "source": [
    "import casadi as cs\n",
    "from urdf2casadi import urdfparser as u2c\n",
    "import numpy as np\n",
    "import matplotlib.pyplot as plt"
   ]
  },
  {
   "cell_type": "code",
   "execution_count": 2,
   "metadata": {},
   "outputs": [],
   "source": [
    "class Urdf2Moon:\n",
    "    def __init__(self, urdf_path, root, tip):\n",
    "        self.robot_parser = self.load_urdf(urdf_path)\n",
    "\n",
    "        # Store inputs\n",
    "        self.root = root\n",
    "        self.tip = tip\n",
    "        \n",
    "        # Get basic info\n",
    "        self.num_joints = self.get_joints_n(self.root, self.tip)\n",
    "        self.q, self.q_dot, self.epsilon = self.define_symbolic_vars(self.num_joints)\n",
    "        self.M, self.Cq, self.G = self.get_motion_equation_matrix(self.root, self.tip, self.q, self.q_dot)\n",
    "        self.upper_x, self.lower_x = self.get_limits(self.root, self.tip)\n",
    "        self.fk_dict = self.robot_parser.get_forward_kinematics(self.root, self.tip)\n",
    "        self.T_fk = self.fk_dict[\"T_fk\"]\n",
    "        self.J = cs.jacobian(self.T_fk(self.q)[0:3:2,3], self.q)\n",
    "        \n",
    "    def define_symbolic_vars(self, num_joints):\n",
    "        q = cs.SX.sym(\"q\", num_joints)\n",
    "        q_dot = cs.SX.sym(\"q_dot\", num_joints)\n",
    "        epsilon = cs.SX.sym(\"epsilon\", num_joints)\n",
    "        return q, q_dot, epsilon\n",
    "    def load_urdf(self, urdf_path):\n",
    "        robot_parser = u2c.URDFparser()\n",
    "        robot_parser.from_file(urdf_path)\n",
    "        return robot_parser\n",
    "    def get_joints_n(self, root, tip):\n",
    "        return self.robot_parser.get_n_joints(root, tip) #return the number of actuated joints\n",
    "    def get_limits(self, root, tip):\n",
    "        _, _, upper, lower = self.robot_parser.get_joint_info(root, tip)\n",
    "        return upper, lower\n",
    "    def get_motion_equation_matrix(self, root, tip, q, q_dot):\n",
    "        # load inertia terms (function)\n",
    "        M_sym = self.robot_parser.get_inertia_matrix_crba(root, tip)\n",
    "        # load gravity terms (function)\n",
    "        gravity_u2c = [0, 0, -9.81]\n",
    "        G_sym = self.robot_parser.get_gravity_rnea(root, tip, gravity_u2c)\n",
    "        # load Coriolis terms (function)\n",
    "        C_sym = self.robot_parser.get_coriolis_rnea(root, tip)\n",
    "        return M_sym, C_sym, G_sym\n",
    "    def load_path(self, path_function):\n",
    "        epsilon_q = self.T_fk(self.q)[0:3:2,3]  # the same variable but q_dipendent\n",
    "        x = self.epsilon[0]\n",
    "        y = self.epsilon[1]\n",
    "        C = path_function(x, y)\n",
    "        C_func = cs.Function('C_func', [self.epsilon], [C], [\"epsilon\"], [\"C\"])\n",
    "        self.C_q = C_func(epsilon_q)\n",
    "        C_epsilon = cs.jacobian(C, self.epsilon)\n",
    "        C_epsilon_func = cs.Function('C_epsilon_func', [self.epsilon], [C_epsilon], [\"epsilon\"], [\"C_epsilon\"])\n",
    "        self.C_epsilon_q = C_epsilon_func(epsilon_q)\n",
    "        S = cs.SX.sym(\"S\", self.num_joints)\n",
    "        S[0] = -C_epsilon[1]    # S is defined to have C.T*S=0\n",
    "        S[1] =  C_epsilon[0]\n",
    "        S_func = cs.Function('S_func', [self.epsilon], [S], [\"epsilon\"], [\"S\"])\n",
    "        self.S_q = S_func(epsilon_q)\n",
    "    def evaluate_tau_function(self, alpha, ni, Kb):\n",
    "        gamma = -cs.pinv(self.J)@((self.C_epsilon_q@self.C_q.T*ni).T + self.S_q*alpha)\n",
    "        gamma_epsilon = cs.jacobian(gamma, self.q)\n",
    "        gamma_dot = gamma_epsilon@self.q_dot\n",
    "        a = self.Cq(self.q, self.q_dot) + self.G(self.q)  \n",
    "        p = (cs.pinv(self.q_dot-gamma)@(self.C_q.T*self.C_epsilon_q@\n",
    "                                        (self.J@self.q_dot+self.C_epsilon_q.T*self.C_q*ni))).T\n",
    "        b = gamma_dot - p - Kb*(self.q_dot-gamma)\n",
    "        tau = a + self.M(self.q)@b\n",
    "        self.tau_func = cs.Function(\"tau_func\", [self.q, self.q_dot], [tau], [\"q\", \"q_dot\"], [\"tau\"])\n"
   ]
  },
  {
   "cell_type": "code",
   "execution_count": 3,
   "metadata": {
    "scrolled": false
   },
   "outputs": [],
   "source": [
    "if __name__ == '__main__':\n",
    "    urdf_path = \"../urdf/rrbot.urdf\"\n",
    "    root = \"link1\" \n",
    "    end = \"link4\"\n",
    "    \n",
    "    x0 = 0.2\n",
    "    y0 = 0.2\n",
    "    R = 0.1\n",
    "    def C_function(x, y):\n",
    "        return (x - x0)**2 + (y - y0)**2 - R**2\n",
    "\n",
    "    model = Urdf2Moon(urdf_path, root, end)\n",
    "    model.load_path(C_function)\n",
    "    \n",
    "    # parameters\n",
    "    ni = 0.5\n",
    "    alpha = 0.1\n",
    "    Kb = 1.0\n",
    "    model.evaluate_tau_function(alpha, ni, Kb)"
   ]
  },
  {
   "cell_type": "code",
   "execution_count": 4,
   "metadata": {},
   "outputs": [
    {
     "data": {
      "text/plain": [
       "DM([133.918, 12.1951])"
      ]
     },
     "execution_count": 4,
     "metadata": {},
     "output_type": "execute_result"
    }
   ],
   "source": [
    "q = [0.5, 0.5]\n",
    "q_dot = [1.0, 1.0]\n",
    "\n",
    "model.tau_func(q, q_dot)"
   ]
  }
 ],
 "metadata": {
  "kernelspec": {
   "display_name": "Python 3",
   "language": "python",
   "name": "python3"
  },
  "language_info": {
   "codemirror_mode": {
    "name": "ipython",
    "version": 3
   },
   "file_extension": ".py",
   "mimetype": "text/x-python",
   "name": "python",
   "nbconvert_exporter": "python",
   "pygments_lexer": "ipython3",
   "version": "3.8.5"
  }
 },
 "nbformat": 4,
 "nbformat_minor": 4
}
